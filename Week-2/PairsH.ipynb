{
  "nbformat": 4,
  "nbformat_minor": 0,
  "metadata": {
    "colab": {
      "name": "PairsH.ipynb",
      "provenance": [],
      "collapsed_sections": []
    },
    "kernelspec": {
      "name": "python3",
      "display_name": "Python 3"
    },
    "language_info": {
      "name": "python"
    }
  },
  "cells": [
    {
      "cell_type": "markdown",
      "metadata": {
        "id": "MO-zmCRv-D_n"
      },
      "source": [
        "# Paired Switching (Hard)\n",
        "\n",
        "The only difference between this and the easy version would be that here, we won't be telling you about what functions you should implement/what standard functions to use in order to do that, but simply let you do your work from Scratch!\n",
        "\n",
        "The idea behind this strategy is that if the assets are negatively correlated, then a traditional mixed portfolio might lead to a lower return than the return for the individual assets.\n",
        "\n",
        "We periodically compute the Co-relation Coefficients' Matrix and choose pair of stocks which have the most negative co-relations and trade in them. The basic idea being that if one of them would fall, then the other would rise and hence, we must switch between them!\n",
        "\n",
        "Your program would need to first read the Data from DATA.csv. \n",
        "Then you'll need functions which could decide which pairs to choose.\n",
        "\n",
        "You need a function which switches between these pairs.\n",
        "\n",
        "And a main loop using which you sequentially run these loops through various trading sessions (data about which can be got from the DataFrame you loaded)\n",
        "\n",
        "In the end, You should plot your results and write about them in a cell!\n",
        "\n"
      ]
    }
  ]
}