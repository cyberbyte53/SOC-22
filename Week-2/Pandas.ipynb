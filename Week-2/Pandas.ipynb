{
 "cells": [
  {
   "cell_type": "markdown",
   "id": "1c5fd26a",
   "metadata": {},
   "source": [
    "# Pandas\n",
    "\n",
    "## Pandas Series\n",
    "\n",
    "Pandas Series is a **one-dimensional labeled array** capable of holding data of any type (integer, string, float, python objects, etc.). The axis labels are collectively called index. Pandas Series is nothing but a column in an excel sheet.\n",
    "\n",
    "In the real world, a Pandas Series will be created by loading the datasets from existing storage, storage can be SQL Database, CSV file, and Excel file. Pandas Series can be created from the lists, dictionary, and from a scalar value etc. Series can be created in different ways, here are some ways by which we create a series:"
   ]
  },
  {
   "cell_type": "code",
   "execution_count": 17,
   "id": "c0799ac1",
   "metadata": {},
   "outputs": [
    {
     "name": "stdout",
     "output_type": "stream",
     "text": [
      "0    p\n",
      "1    a\n",
      "2    n\n",
      "3    d\n",
      "4    a\n",
      "5    s\n",
      "dtype: object\n",
      "0    p\n",
      "1    a\n",
      "2    n\n",
      "3    d\n",
      "4    a\n",
      "5    s\n",
      "dtype: object\n",
      "0    p\n",
      "1    a\n",
      "2    n\n",
      "dtype: object\n"
     ]
    }
   ],
   "source": [
    "#Creating a series from array\n",
    "\n",
    "import pandas as pd\n",
    "# as we are using array() \n",
    "import numpy as np\n",
    " \n",
    "data = np.array(['p','a','n','d','a','s'])\n",
    " \n",
    "ser1 = pd.Series(data)\n",
    "print(ser1)\n",
    "\n",
    "# Creating a series from Lists:\n",
    "list = ['p', 'a', 'n', 'd', 'a' ,'s']\n",
    "  \n",
    "ser2 = pd.Series(list)\n",
    "print(ser2)\n",
    "\n",
    "# Accessing Element from Series with Position \n",
    "print(ser2[:3])"
   ]
  },
  {
   "cell_type": "markdown",
   "id": "78dd09dd",
   "metadata": {},
   "source": [
    "### Labels\n",
    "If nothing else is specified, the values are labeled with their index number. First value has index 0, second value has index 1 etc.For example:"
   ]
  },
  {
   "cell_type": "code",
   "execution_count": 18,
   "id": "eb8fd6df",
   "metadata": {},
   "outputs": [
    {
     "name": "stdout",
     "output_type": "stream",
     "text": [
      "0        Indian\n",
      "1     Institute\n",
      "2            Of\n",
      "3    Technology\n",
      "4        Bombay\n",
      "dtype: object\n"
     ]
    }
   ],
   "source": [
    "data=[\"Indian\",\"Institute\",\"Of\",\"Technology\",\"Bombay\"]\n",
    "\n",
    "ser3=pd.Series(data)\n",
    "print(ser3)\n"
   ]
  },
  {
   "cell_type": "markdown",
   "id": "6f6941fd",
   "metadata": {},
   "source": [
    "**Create Labels**\n",
    "With the index argument, you can name your own labels.\n"
   ]
  },
  {
   "cell_type": "code",
   "execution_count": 19,
   "id": "4f300fe0",
   "metadata": {},
   "outputs": [
    {
     "name": "stdout",
     "output_type": "stream",
     "text": [
      "a        Indian\n",
      "b     Institute\n",
      "c            Of\n",
      "d    Technology\n",
      "e        Bombay\n",
      "dtype: object\n",
      "Technology\n"
     ]
    }
   ],
   "source": [
    "ser4=pd.Series(data,index=[\"a\",\"b\",\"c\",\"d\",\"e\"])\n",
    "print(ser4)\n",
    "\n",
    "#Label can be used to access a specified value\n",
    "\n",
    "print(ser4[\"d\"])"
   ]
  },
  {
   "cell_type": "markdown",
   "id": "847b2cab",
   "metadata": {},
   "source": [
    "**Key/Value Objects as Series**\n",
    "You can also use a key/value object, like a dictionary, when creating a Series."
   ]
  },
  {
   "cell_type": "code",
   "execution_count": 20,
   "id": "9ccebf40",
   "metadata": {},
   "outputs": [
    {
     "name": "stdout",
     "output_type": "stream",
     "text": [
      "day1    420\n",
      "day2    380\n",
      "day3    390\n",
      "dtype: int64\n"
     ]
    }
   ],
   "source": [
    "calories = {\"day1\": 420, \"day2\": 380, \"day3\": 390}\n",
    "\n",
    "myvar = pd.Series(calories)\n",
    "\n",
    "print(myvar)"
   ]
  },
  {
   "cell_type": "markdown",
   "id": "cbc70e02",
   "metadata": {},
   "source": [
    "Note:The keys of the dictionary become the labels."
   ]
  },
  {
   "cell_type": "markdown",
   "id": "a01a18d9",
   "metadata": {},
   "source": [
    "### Check out [this](https://www.geeksforgeeks.org/python-pandas-series/?ref=lbp) for more details on Pandas Series."
   ]
  },
  {
   "cell_type": "markdown",
   "id": "9702dfc1",
   "metadata": {},
   "source": [
    "## Pandas DataFrames\n",
    "\n",
    "A Pandas DataFrame is a 2 dimensional data structure, like a 2 dimensional array, or a table with rows and columns."
   ]
  },
  {
   "cell_type": "code",
   "execution_count": 21,
   "id": "08a57f13",
   "metadata": {},
   "outputs": [
    {
     "name": "stdout",
     "output_type": "stream",
     "text": [
      "   calories  duration\n",
      "0       420        50\n",
      "1       380        40\n",
      "2       390        45\n"
     ]
    }
   ],
   "source": [
    "import pandas as pd\n",
    "\n",
    "data = {\n",
    "  \"calories\": [420, 380, 390],\n",
    "  \"duration\": [50, 40, 45]\n",
    "}\n",
    "df = pd.DataFrame(data)\n",
    "\n",
    "print(df) "
   ]
  },
  {
   "cell_type": "markdown",
   "id": "b6bbb141",
   "metadata": {},
   "source": [
    "### For more details refer to [Creating a Pandas DataFrame](https://www.geeksforgeeks.org/different-ways-to-create-pandas-dataframe/)"
   ]
  },
  {
   "cell_type": "markdown",
   "id": "e89b2e19",
   "metadata": {},
   "source": [
    "### Locate Row\n",
    "Pandas use the **loc** attribute to return one or more specified row(s).Example:"
   ]
  },
  {
   "cell_type": "code",
   "execution_count": 22,
   "id": "4461a0fd",
   "metadata": {},
   "outputs": [
    {
     "name": "stdout",
     "output_type": "stream",
     "text": [
      "calories    420\n",
      "duration     50\n",
      "Name: 0, dtype: int64\n",
      "   calories  duration\n",
      "0       420        50\n",
      "1       380        40\n"
     ]
    }
   ],
   "source": [
    "import pandas as pd\n",
    "data = {\n",
    "  \"calories\": [420, 380, 390],\n",
    "  \"duration\": [50, 40, 45]\n",
    "}\n",
    "df = pd.DataFrame(data)\n",
    "\n",
    "#Return row 0\n",
    "print(df.loc[0])\n",
    "\n",
    "#Return row 0 and 1\n",
    "print(df.loc[[0,1]])"
   ]
  },
  {
   "cell_type": "markdown",
   "id": "7e876f89",
   "metadata": {},
   "source": [
    "**Note: When using [], the result is a Pandas DataFrame.**"
   ]
  },
  {
   "cell_type": "markdown",
   "id": "630399e6",
   "metadata": {},
   "source": [
    "With the **index** argument, you can name your own indexes and use this named index in the **loc** attribute to return the specified row(s)."
   ]
  },
  {
   "cell_type": "code",
   "execution_count": 23,
   "id": "d9316204",
   "metadata": {},
   "outputs": [
    {
     "name": "stdout",
     "output_type": "stream",
     "text": [
      "calories    420\n",
      "duration     50\n",
      "Name: day1, dtype: int64\n"
     ]
    }
   ],
   "source": [
    "df=pd.DataFrame(data,index=[\"day1\",\"day2\",\"day3\"])\n",
    "print(df.loc[\"day1\"])\n"
   ]
  },
  {
   "cell_type": "markdown",
   "id": "d7d471a1",
   "metadata": {},
   "source": [
    "#### Rows can also be extracted using .iloc[]. Check out [here](https://www.geeksforgeeks.org/python-extracting-rows-using-pandas-iloc/?ref=lbp)."
   ]
  },
  {
   "cell_type": "markdown",
   "id": "af63ae95",
   "metadata": {},
   "source": [
    "## Pandas Read CSV\n",
    "\n",
    "A simple way to store big data sets is to use CSV files (comma separated files).\n",
    "\n",
    "CSV files contains plain text and is a well know format that can be read by everyone including Pandas.\n",
    "Check out this [link](https://www.geeksforgeeks.org/python-read-csv-using-pandas-read_csv/?ref=lbp) to understand how we can read CSV files \n",
    "Also note that when you print a DataFrame , you will only get the first 5 rows ,and last 5 rows.But what if you want to print the entire DataFrame?\n",
    "Use **to_string()** to print the entire DataFrame!\n"
   ]
  },
  {
   "cell_type": "markdown",
   "id": "930d2243",
   "metadata": {},
   "source": [
    "## Pandas Read JSON\n",
    "\n",
    "Big data sets are often stored, or extracted as JSON.\n",
    "\n",
    "JSON is plain text, but has the format of an object, and is well known in the world of programming, including Pandas.\n",
    "Head over to this [link](https://towardsdatascience.com/how-to-parse-json-data-with-python-pandas-f84fbd0b1025) that covers all necessary information about JSON files and how to read them using pandas.\n",
    "Similar to the CSV files , use **to_string()** to print entire DataFrame"
   ]
  },
  {
   "cell_type": "markdown",
   "id": "bb698f28",
   "metadata": {},
   "source": [
    "## Pandas Mean | Standard Deviation | Variance \n",
    "Similar to numpy , we have inbuilt functions to create the Mean,Standard Deviation and Variance of the Data of a Pandas Series\n"
   ]
  },
  {
   "cell_type": "code",
   "execution_count": 24,
   "id": "e5d1378d",
   "metadata": {},
   "outputs": [
    {
     "name": "stdout",
     "output_type": "stream",
     "text": [
      "0     5\n",
      "1     9\n",
      "2     8\n",
      "3     5\n",
      "4     7\n",
      "5     8\n",
      "6     1\n",
      "7     2\n",
      "8     3\n",
      "9     4\n",
      "10    5\n",
      "11    6\n",
      "12    7\n",
      "13    8\n",
      "dtype: int64\n",
      "5.571428571428571\n",
      "2.4405007592795287\n",
      "5.956043956043955\n"
     ]
    }
   ],
   "source": [
    "# Finding the mean and Standard Deviation of a Pandas Series.\n",
    "\n",
    "import pandas as pd\n",
    "  \n",
    "# creating a series\n",
    "s = pd.Series(data = [5, 9, 8, 5, 7, 8, 1, 2, 3,\n",
    "                      4, 5, 6, 7, 8])\n",
    "\n",
    "# displaying the series\n",
    "print(s)\n",
    "# finding the mean\n",
    "print(s.mean())\n",
    "# finding the Standard deviation\n",
    "print(s.std())\n",
    "# finding the variance\n",
    "print(s.var())\n",
    "\n"
   ]
  },
  {
   "cell_type": "code",
   "execution_count": 14,
   "id": "f5a0a469",
   "metadata": {},
   "outputs": [
    {
     "name": "stdout",
     "output_type": "stream",
     "text": [
      "    Cost  Quantity\n",
      "0    114        10\n",
      "1    345        20\n",
      "2  15778        50\n",
      "3   5626        30\n",
      "Cost        5465.75\n",
      "Quantity      27.50\n",
      "dtype: float64\n",
      "Cost        7331.018318\n",
      "Quantity      17.078251\n",
      "dtype: float64\n",
      "Cost        5.374383e+07\n",
      "Quantity    2.916667e+02\n",
      "dtype: float64\n"
     ]
    }
   ],
   "source": [
    "#Finding the mean and Standard Deviation of a Pandas DataFrame.\n",
    "\n",
    "import pandas as pd\n",
    "\n",
    "# creating a dataframe \n",
    "df = pd.DataFrame({'Cost':[114, 345, 15778, 5626],\n",
    "                   'Quantity':[10, 20, 50,30]})\n",
    "  \n",
    "# displaying the DataFrame\n",
    "print(df)\n",
    "# finding the mean\n",
    "print(df.mean())\n",
    "# finding the Standard deviation\n",
    "print(df.std())\n",
    "# finding the variance\n",
    "print(df.var())"
   ]
  },
  {
   "cell_type": "markdown",
   "id": "782838d9",
   "metadata": {},
   "source": [
    "## Cleaning Data\n",
    "Data cleaning is the process of changing or eliminating garbage, incorrect, duplicate, corrupted, or incomplete data in a dataset.The motive of data cleaning services is to construct uniform and standardized data sets that enable data analytical tools and business intelligence easy access and perceive accurate data for each problem.\n",
    "There are numerous Data cleaning tools present but, the **Pandas** library provides a really fast and efficient way to manage and explore data. \n",
    "\n",
    "Head over to this [link](https://www.w3schools.com/python/pandas/pandas_cleaning.asp) to know about data cleaning using pandas"
   ]
  },
  {
   "cell_type": "markdown",
   "id": "a90db216",
   "metadata": {},
   "source": [
    "### In this notebook , we have touched upon basics of Pandas . To know more about it , you can use following links:\n",
    "\n",
    "### [pandas tutorial](https://www.geeksforgeeks.org/pandas-tutorial/?ref=lbp)\n",
    "### [Documentation](https://pandas.pydata.org/docs/)\n"
   ]
  },
  {
   "cell_type": "code",
   "execution_count": null,
   "id": "5fd4f591",
   "metadata": {},
   "outputs": [],
   "source": []
  }
 ],
 "metadata": {
  "kernelspec": {
   "display_name": "Python 3",
   "language": "python",
   "name": "python3"
  },
  "language_info": {
   "codemirror_mode": {
    "name": "ipython",
    "version": 3
   },
   "file_extension": ".py",
   "mimetype": "text/x-python",
   "name": "python",
   "nbconvert_exporter": "python",
   "pygments_lexer": "ipython3",
   "version": "3.8.1"
  }
 },
 "nbformat": 4,
 "nbformat_minor": 5
}
