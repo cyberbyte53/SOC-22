{
 "cells": [
  {
   "cell_type": "markdown",
   "id": "26985649",
   "metadata": {},
   "source": [
    "# Python program to demonstrate basic array characteristics\n",
    "\n",
    "NumPy’s array class is called ndarray. It is also known by the alias array."
   ]
  },
  {
   "cell_type": "markdown",
   "id": "a9d7043c",
   "metadata": {},
   "source": [
    "## NumPy   Creating arrays\n",
    "\n",
    "The array object in NumPy is called ndarray.\n",
    "We can create a NumPy **ndarray** object by using the **array()** function.Here are the few examples:"
   ]
  },
  {
   "cell_type": "code",
   "execution_count": 1,
   "id": "eba622cc",
   "metadata": {},
   "outputs": [
    {
     "name": "stdout",
     "output_type": "stream",
     "text": [
      "[1 2 3 4 5]\n",
      "<class 'numpy.ndarray'>\n"
     ]
    }
   ],
   "source": [
    "import numpy as np\n",
    "\n",
    "arr = np.array([1, 2, 3, 4, 5])\n",
    "\n",
    "print(arr)\n",
    "\n",
    "print(type(arr))       #type(): This built-in Python function tells us the type of the object passed to it."
   ]
  },
  {
   "cell_type": "markdown",
   "id": "37e9f6c3",
   "metadata": {},
   "source": [
    "To create an ndarray, we can pass a **list**, **tuple** or any **array-like object** into the array() method, and it will be converted into an ndarray:\n"
   ]
  },
  {
   "cell_type": "code",
   "execution_count": 2,
   "id": "d8eab6c9",
   "metadata": {},
   "outputs": [
    {
     "name": "stdout",
     "output_type": "stream",
     "text": [
      "[1 2 3 4 5]\n"
     ]
    }
   ],
   "source": [
    "import numpy as np\n",
    "\n",
    "arr = np.array((1, 2, 3, 4, 5))\n",
    "\n",
    "print(arr)"
   ]
  },
  {
   "cell_type": "markdown",
   "id": "800f83af",
   "metadata": {},
   "source": [
    "Numpy also provides many other functions to create arrays. Below are some examples :\n",
    "\n"
   ]
  },
  {
   "cell_type": "code",
   "execution_count": 5,
   "id": "f162f649",
   "metadata": {},
   "outputs": [
    {
     "name": "stdout",
     "output_type": "stream",
     "text": [
      "[[0. 0.]\n",
      " [0. 0.]]\n",
      "[[1. 1.]]\n",
      "[[7 7]\n",
      " [7 7]]\n",
      "[[1. 0.]\n",
      " [0. 1.]]\n",
      "[[0.25190935 0.28772327]\n",
      " [0.8069469  0.98509487]]\n"
     ]
    }
   ],
   "source": [
    "import numpy as np\n",
    "\n",
    "a = np.zeros((2,2))   # Create an array of all zeros\n",
    "print(a)              \n",
    "\n",
    "b = np.ones((1,2))    # Create an array of all ones\n",
    "print(b)             \n",
    "\n",
    "c = np.full((2,2), 7)  # Create a constant array\n",
    "print(c)               \n",
    "\n",
    "d = np.eye(2)         # Create a 2x2 identity matrix\n",
    "print(d)              \n",
    "e = np.random.random((2,2))  # Create an array filled with random values\n",
    "print(e)                     "
   ]
  },
  {
   "cell_type": "markdown",
   "id": "68a0ae55",
   "metadata": {},
   "source": [
    "### Dimensions in Arrays\n",
    "\n",
    "a list of numbers will create a 1D array,\n",
    "\n",
    "a list of lists will create a 2D array,\n",
    "\n",
    "further nested lists will create higher-dimensional arrays. In general, any array object is called an ndarray in NumPy."
   ]
  },
  {
   "cell_type": "code",
   "execution_count": null,
   "id": "8c33e38e",
   "metadata": {},
   "outputs": [],
   "source": [
    "a1D = np.array([1, 2, 3, 4])\n",
    "a2D = np.array([[1, 2], [3, 4]])\n",
    "a3D = np.array([[[1, 2], [3, 4]],\n",
    "                    [[5, 6], [7, 8]]])"
   ]
  },
  {
   "cell_type": "markdown",
   "id": "50a79bef",
   "metadata": {},
   "source": [
    "### Check Number of Dimensions?\n",
    "\n",
    "NumPy Arrays provides the ndim attribute that returns an integer that tells us how many dimensions the array have.Say we want\n",
    "to check dimensions of arrays in above example,then we will get them as follows:"
   ]
  },
  {
   "cell_type": "code",
   "execution_count": 7,
   "id": "a1a7a219",
   "metadata": {},
   "outputs": [
    {
     "name": "stdout",
     "output_type": "stream",
     "text": [
      "1\n",
      "2\n",
      "3\n"
     ]
    }
   ],
   "source": [
    "a1D = np.array([1, 2, 3, 4])\n",
    "a2D = np.array([[1, 2], [3, 4]])\n",
    "a3D = np.array([[[1, 2], [3, 4]],\n",
    "                    [[5, 6], [7, 8]]])\n",
    "\n",
    "print(a1D.ndim)\n",
    "print(a2D.ndim)\n",
    "print(a3D.ndim)"
   ]
  },
  {
   "cell_type": "code",
   "execution_count": null,
   "id": "d265673b",
   "metadata": {},
   "outputs": [],
   "source": [
    "### Higher Dimensional Arrays\n",
    "An array can have any number of dimensions.\n",
    "\n",
    "When the array is created, you can define the number of dimensions by using the ndmin argument."
   ]
  },
  {
   "cell_type": "code",
   "execution_count": 8,
   "id": "4e40280f",
   "metadata": {},
   "outputs": [
    {
     "name": "stdout",
     "output_type": "stream",
     "text": [
      "[[[[[1 2 3 4]]]]]\n",
      "number of dimensions : 5\n"
     ]
    }
   ],
   "source": [
    "import numpy as np\n",
    "\n",
    "arr = np.array([1, 2, 3, 4], ndmin=5)\n",
    "\n",
    "print(arr)\n",
    "print('number of dimensions :', arr.ndim)"
   ]
  },
  {
   "cell_type": "code",
   "execution_count": 9,
   "id": "1933faa5",
   "metadata": {},
   "outputs": [
    {
     "name": "stdout",
     "output_type": "stream",
     "text": [
      "Shape of array:  (2, 3)\n",
      "Size of array:  6\n"
     ]
    }
   ],
   "source": [
    "# You can also find shape and size of array\n",
    "\n",
    "import numpy as np\n",
    "arr = np.array( [[ 1, 2, 3],\n",
    "                 [ 4, 2, 5]] )\n",
    "print(\"Shape of array: \", arr.shape)\n",
    "\n",
    "print(\"Size of array: \", arr.size)\n",
    "  "
   ]
  },
  {
   "cell_type": "markdown",
   "id": "ab7476d7",
   "metadata": {},
   "source": [
    "**You can read about other methods of array creation in the [documentation](https://numpy.org/doc/stable/user/basics.creation.html#arrays-creation)**"
   ]
  },
  {
   "cell_type": "markdown",
   "id": "a14a095d",
   "metadata": {},
   "source": [
    "## NumPy   Array Indexing\n",
    "\n",
    "### Access Array Elements\n",
    "\n",
    "Array indexing is the same as accessing an array element.\n",
    "\n",
    "You can access an array element by referring to its index number.\n",
    "\n",
    "The indexes in NumPy arrays start with 0, meaning that the first element has index 0, and the second has index 1 etc."
   ]
  },
  {
   "cell_type": "code",
   "execution_count": 11,
   "id": "d9312f94",
   "metadata": {},
   "outputs": [
    {
     "name": "stdout",
     "output_type": "stream",
     "text": [
      "2\n",
      "5th element on 2nd dim:  10\n",
      "6\n"
     ]
    }
   ],
   "source": [
    "import numpy as np\n",
    "\n",
    "arr = np.array([1, 2, 3, 4])  \n",
    "\n",
    "print(arr[1])\n",
    "\n",
    "arr2 = np.array([[1,2,3,4,5], [6,7,8,9,10]])     #Access 2-D Arrays\n",
    "\n",
    "print('5th element on 2nd dim: ', arr2[1, 4])\n",
    "\n",
    "arr3= np.array([[[1, 2, 3], [4, 5, 6]], [[7, 8, 9], [10, 11, 12]]])   #Access 3-D Arrays\n",
    "\n",
    "print(arr3[0, 1, 2])"
   ]
  },
  {
   "cell_type": "markdown",
   "id": "a8ea62c9",
   "metadata": {},
   "source": [
    "### Negative Indexing\n",
    "\n",
    "Use negative indexing to access an array from the end."
   ]
  },
  {
   "cell_type": "code",
   "execution_count": 12,
   "id": "fd49f1fe",
   "metadata": {},
   "outputs": [
    {
     "name": "stdout",
     "output_type": "stream",
     "text": [
      "Last element from 2nd dim:  10\n"
     ]
    }
   ],
   "source": [
    "arr = np.array([[1,2,3,4,5], [6,7,8,9,10]])\n",
    "\n",
    "print('Last element from 2nd dim: ', arr[1, -1])\n"
   ]
  },
  {
   "cell_type": "markdown",
   "id": "aab02ec6",
   "metadata": {},
   "source": [
    "### Array Slicing\n",
    "\n",
    "Slicing in python means taking elements from one given index to another given index.\n",
    "\n",
    "We pass slice instead of index like this: [start:end].\n",
    "\n",
    "We can also define the step, like this: [start:end:step].\n",
    "\n",
    "If we don't pass start its considered 0\n",
    "\n",
    "If we don't pass end its considered length of array in that dimension\n",
    "\n",
    "If we don't pass step its considered 1"
   ]
  },
  {
   "cell_type": "code",
   "execution_count": 13,
   "id": "0fa86a4a",
   "metadata": {},
   "outputs": [
    {
     "name": "stdout",
     "output_type": "stream",
     "text": [
      "[1 2 3 4]\n"
     ]
    }
   ],
   "source": [
    "#Slice elements from the beginning to index 4 (not included):\n",
    "\n",
    "import numpy as np\n",
    "\n",
    "arr = np.array([1, 2, 3, 4, 5, 6, 7])\n",
    "\n",
    "print(arr[:4])"
   ]
  },
  {
   "cell_type": "markdown",
   "id": "a34d13b9",
   "metadata": {},
   "source": [
    "#### Negative Slicing\n",
    "\n",
    "Use the minus operator to refer to an index from the end.Example:"
   ]
  },
  {
   "cell_type": "code",
   "execution_count": 14,
   "id": "4af5deb9",
   "metadata": {},
   "outputs": [
    {
     "name": "stdout",
     "output_type": "stream",
     "text": [
      "[5 6]\n"
     ]
    }
   ],
   "source": [
    "arr = np.array([1, 2, 3, 4, 5, 6, 7])\n",
    "\n",
    "print(arr[-3:-1])"
   ]
  },
  {
   "cell_type": "markdown",
   "id": "c883feed",
   "metadata": {},
   "source": [
    "#### STEP\n"
   ]
  },
  {
   "cell_type": "code",
   "execution_count": null,
   "id": "147be824",
   "metadata": {},
   "outputs": [],
   "source": [
    "#Return every other element from index 1 to index 5:\n",
    "\n",
    "import numpy as np\n",
    "\n",
    "arr = np.array([1, 2, 3, 4, 5, 6, 7])\n",
    "\n",
    "print(arr[1:5:2])"
   ]
  },
  {
   "cell_type": "markdown",
   "id": "2ae4ed7b",
   "metadata": {},
   "source": [
    "#### Slicing 2-D Arrays"
   ]
  },
  {
   "cell_type": "code",
   "execution_count": null,
   "id": "8c2d456d",
   "metadata": {},
   "outputs": [],
   "source": [
    "# Create the following rank 2 array with shape (3, 4)\n",
    "# [[ 1  2  3  4]\n",
    "#  [ 5  6  7  8]\n",
    "#  [ 9 10 11 12]]\n",
    "a = np.array([[1,2,3,4], [5,6,7,8], [9,10,11,12]])\n",
    "\n",
    "# Use slicing to pull out the subarray consisting of the first 2 rows\n",
    "# and columns 1 and 2; b is the following array of shape (2, 2):\n",
    "# [[2 3]\n",
    "#  [6 7]]\n",
    "b = a[:2, 1:3]\n",
    "\n",
    "# A slice of an array is a view into the same data, so modifying it\n",
    "# will modify the original array.\n",
    "print(a[0, 1])   # Prints \"2\"\n",
    "b[0, 0] = 77     # b[0, 0] is the same piece of data as a[0, 1]\n",
    "print(a[0, 1])   # Prints \"77\""
   ]
  },
  {
   "cell_type": "code",
   "execution_count": null,
   "id": "4fe8cf5f",
   "metadata": {},
   "outputs": [],
   "source": [
    "import numpy as np\n",
    "\n",
    "# Create the following rank 2 array with shape (3, 4)\n",
    "# [[ 1  2  3  4]\n",
    "#  [ 5  6  7  8]\n",
    "#  [ 9 10 11 12]]\n",
    "a = np.array([[1,2,3,4], [5,6,7,8], [9,10,11,12]])\n",
    "\n",
    "# Two ways of accessing the data in the middle row of the array.\n",
    "# Mixing integer indexing with slices yields an array of lower rank,\n",
    "# while using only slices yields an array of the same rank as the\n",
    "# original array:\n",
    "row_r1 = a[1, :]    # Rank 1 view of the second row of a\n",
    "row_r2 = a[1:2, :]  # Rank 2 view of the second row of a\n",
    "print(row_r1, row_r1.shape)  # Prints \"[5 6 7 8] (4,)\"\n",
    "print(row_r2, row_r2.shape)  # Prints \"[[5 6 7 8]] (1, 4)\"\n",
    "\n",
    "# We can make the same distinction when accessing columns of an array:\n",
    "col_r1 = a[:, 1]\n",
    "col_r2 = a[:, 1:2]\n",
    "print(col_r1, col_r1.shape)  # Prints \"[ 2  6 10] (3,)\"\n",
    "print(col_r2, col_r2.shape)  # Prints \"[[ 2]\n",
    "                             #          [ 6]\n",
    "                             #          [10]] (3, 1)\""
   ]
  },
  {
   "cell_type": "markdown",
   "id": "0613432b",
   "metadata": {},
   "source": [
    "**To learn more about array indexing , you can read [this](https://numpy.org/doc/stable/reference/arrays.indexing.html#integer-array-indexing)**"
   ]
  },
  {
   "cell_type": "markdown",
   "id": "f00f9ddf",
   "metadata": {},
   "source": [
    "## Checking the Data type of an Array\n",
    "\n",
    "The NumPy array object has a property called **dtype** that returns the data type of the array.Example:\n"
   ]
  },
  {
   "cell_type": "code",
   "execution_count": 16,
   "id": "0938cb10",
   "metadata": {},
   "outputs": [
    {
     "name": "stdout",
     "output_type": "stream",
     "text": [
      "int32\n",
      "float64\n",
      "int64\n"
     ]
    }
   ],
   "source": [
    "import numpy as np\n",
    "\n",
    "x = np.array([1, 2])   # Let numpy choose the datatype\n",
    "print(x.dtype)        \n",
    "\n",
    "x = np.array([1.0, 2.0])   # Let numpy choose the datatype\n",
    "print(x.dtype)             \n",
    "\n",
    "x = np.array([1, 2], dtype=np.int64)   # Force a particular datatype\n",
    "print(x.dtype)                         "
   ]
  },
  {
   "cell_type": "markdown",
   "id": "2ef06237",
   "metadata": {},
   "source": [
    "## NumPy   Array Math\n",
    "\n",
    "Basic mathematical functions operate elementwise on arrays, and are available both as operator overloads and as functions in the numpy module.Below is the example code to illustrate some of the mathematical operations:"
   ]
  },
  {
   "cell_type": "code",
   "execution_count": 17,
   "id": "943aff5a",
   "metadata": {},
   "outputs": [
    {
     "name": "stdout",
     "output_type": "stream",
     "text": [
      "[[ 6.  8.]\n",
      " [10. 12.]]\n",
      "[[ 6.  8.]\n",
      " [10. 12.]]\n",
      "[[-4. -4.]\n",
      " [-4. -4.]]\n",
      "[[-4. -4.]\n",
      " [-4. -4.]]\n",
      "[[ 5. 12.]\n",
      " [21. 32.]]\n",
      "[[ 5. 12.]\n",
      " [21. 32.]]\n",
      "[[0.2        0.33333333]\n",
      " [0.42857143 0.5       ]]\n",
      "[[0.2        0.33333333]\n",
      " [0.42857143 0.5       ]]\n",
      "[[1.         1.41421356]\n",
      " [1.73205081 2.        ]]\n"
     ]
    }
   ],
   "source": [
    "import numpy as np\n",
    "\n",
    "x = np.array([[1,2],[3,4]], dtype=np.float64)\n",
    "y = np.array([[5,6],[7,8]], dtype=np.float64)\n",
    "\n",
    "# Elementwise sum; both produce the array\n",
    "print(x + y)\n",
    "print(np.add(x, y))\n",
    "\n",
    "# Elementwise difference; both produce the array\n",
    "print(x - y)\n",
    "print(np.subtract(x, y))\n",
    "\n",
    "# Elementwise product; both produce the array\n",
    "print(x * y)\n",
    "print(np.multiply(x, y))\n",
    "\n",
    "# Elementwise division; both produce the array\n",
    "print(x / y)\n",
    "print(np.divide(x, y))\n",
    "\n",
    "# Elementwise square root; produces the array\n",
    "print(np.sqrt(x))"
   ]
  },
  {
   "cell_type": "markdown",
   "id": "993fe51e",
   "metadata": {},
   "source": [
    "**Note that here * is elementwise multiplication, not matrix multiplication. We instead use the dot function to compute inner products of vectors, to multiply a vector by a matrix, and to multiply matrices.** \n",
    "Example:"
   ]
  },
  {
   "cell_type": "code",
   "execution_count": 19,
   "id": "960ee21c",
   "metadata": {},
   "outputs": [
    {
     "name": "stdout",
     "output_type": "stream",
     "text": [
      "[29 67]\n",
      "[29 67]\n",
      "[[19 22]\n",
      " [43 50]]\n",
      "[[19 22]\n",
      " [43 50]]\n"
     ]
    }
   ],
   "source": [
    "x = np.array([[1,2],[3,4]])\n",
    "y = np.array([[5,6],[7,8]])\n",
    "\n",
    "v = np.array([9,10])\n",
    "w = np.array([11, 12])\n",
    "\n",
    "# Matrix / vector product; both produce the rank 1 array\n",
    "print(x.dot(v))\n",
    "print(np.dot(x, v))\n",
    "\n",
    "# Matrix / matrix product; both produce the rank 2 array\n",
    "print(x.dot(y))\n",
    "print(np.dot(x, y))\n"
   ]
  },
  {
   "cell_type": "markdown",
   "id": "8adcd044",
   "metadata": {},
   "source": [
    "Numpy provides many useful functions for performing computations on arrays; one of the most useful is **sum**:"
   ]
  },
  {
   "cell_type": "code",
   "execution_count": 20,
   "id": "f6b69b2a",
   "metadata": {},
   "outputs": [
    {
     "name": "stdout",
     "output_type": "stream",
     "text": [
      "10\n",
      "[4 6]\n",
      "[3 7]\n"
     ]
    }
   ],
   "source": [
    "x = np.array([[1,2],[3,4]])\n",
    "\n",
    "print(np.sum(x))          # Compute sum of all elements\n",
    "print(np.sum(x, axis=0))  # Compute sum of each column\n",
    "print(np.sum(x, axis=1))  # Compute sum of each row"
   ]
  },
  {
   "cell_type": "markdown",
   "id": "96bba0c0",
   "metadata": {},
   "source": [
    "**You can find the full list of mathematical functions provided by numpy in the [documentation](https://numpy.org/doc/stable/reference/routines.math.html).**"
   ]
  },
  {
   "cell_type": "markdown",
   "id": "bd2e68c0",
   "metadata": {},
   "source": [
    "Apart from computing mathematical functions using arrays, we frequently need to reshape or otherwise manipulate data in arrays. The simplest example of this type of operation is transposing a matrix; to transpose a matrix, simply use the T attribute of an array object:"
   ]
  },
  {
   "cell_type": "code",
   "execution_count": 21,
   "id": "2351ade6",
   "metadata": {},
   "outputs": [
    {
     "name": "stdout",
     "output_type": "stream",
     "text": [
      "[[1 2]\n",
      " [3 4]]\n",
      "[[1 3]\n",
      " [2 4]]\n",
      "[1 2 3]\n",
      "[1 2 3]\n"
     ]
    }
   ],
   "source": [
    "x = np.array([[1,2], [3,4]])\n",
    "print(x)    \n",
    "print(x.T)  \n",
    "\n",
    "# Note that taking the transpose of a rank 1 array does nothing:\n",
    "v = np.array([1,2,3])\n",
    "print(v)    \n",
    "print(v.T)  "
   ]
  },
  {
   "cell_type": "markdown",
   "id": "d7cfa231",
   "metadata": {},
   "source": [
    "## Numpy Mean | Standard Deviation | Variance\n",
    "\n",
    "### Mean \n",
    "The mean value is the average value.\n",
    "\n",
    "### Standard Deviation\n",
    "Standard deviation is a number that describes how spread out the values are.\n",
    "\n",
    "### Variance\n",
    "Variance is another number that indicates how spread out the values are.\n",
    "\n",
    "### In NumPy, we can compute the mean, standard deviation, and variance of a given array by using inbuilt functions  [numpy.mean()](https://numpy.org/doc/stable/reference/generated/numpy.mean.html#numpy.mean), [numpy.std()](https://numpy.org/doc/stable/reference/generated/numpy.std.html), [numpy.var()](https://numpy.org/doc/stable/reference/generated/numpy.var.html#numpy.var)\n"
   ]
  },
  {
   "cell_type": "code",
   "execution_count": 8,
   "id": "569c1a12",
   "metadata": {},
   "outputs": [
    {
     "name": "stdout",
     "output_type": "stream",
     "text": [
      "\n",
      "Mean: 2.5\n",
      "\n",
      "Mean: [2. 3.]\n",
      "\n",
      "std: 1.118033988749895\n",
      "\n",
      "std: [1. 1.]\n",
      "\n",
      "variance: 1.25\n",
      "\n",
      "variance: [1. 1.]\n"
     ]
    }
   ],
   "source": [
    "import numpy as np\n",
    "    \n",
    "# Original array\n",
    "a = np.array([[1, 2], [3, 4]])\n",
    "\n",
    "print(\"\\nMean:\",np.mean(a))   #The default is to compute the mean of the flattened array.\n",
    "\n",
    "print(\"\\nMean:\" ,np.mean(a, axis=0))  # Mean taken over the specified axis \n",
    "  \n",
    "print(\"\\nstd:\" ,np.std(a))   #The default is to compute the mean of the flattened array.\n",
    "\n",
    "print(\"\\nstd:\" ,np.std(a, axis=0))   #standard deviation computed over the specified axis.\n",
    "\n",
    "print(\"\\nvariance:\" ,np.var(a))  # variance is computed for the flattened array by default\n",
    "\n",
    "print(\"\\nvariance:\" ,np.var(a, axis=0))  #variance computed over the specified axis."
   ]
  },
  {
   "cell_type": "markdown",
   "id": "5fbc306a",
   "metadata": {},
   "source": [
    "#### To know more such functions , visit this [link](https://numpy.org/doc/stable/reference/routines.statistics.html#averages-and-variances)\n"
   ]
  },
  {
   "cell_type": "markdown",
   "id": "aed110b1",
   "metadata": {},
   "source": [
    "###  In this notebook , we have covered many important things that one should know about numpy but it's not complete here!\n",
    "### To find more about numpy check out this [Numpy Documentation](https://numpy.org/doc/stable/) or [Numpy tutorial](https://www.geeksforgeeks.org/numpy-tutorial/?ref=lbp)"
   ]
  },
  {
   "cell_type": "markdown",
   "id": "517eae3a",
   "metadata": {},
   "source": []
  }
 ],
 "metadata": {
  "kernelspec": {
   "display_name": "Python 3",
   "language": "python",
   "name": "python3"
  },
  "language_info": {
   "codemirror_mode": {
    "name": "ipython",
    "version": 3
   },
   "file_extension": ".py",
   "mimetype": "text/x-python",
   "name": "python",
   "nbconvert_exporter": "python",
   "pygments_lexer": "ipython3",
   "version": "3.8.1"
  }
 },
 "nbformat": 4,
 "nbformat_minor": 5
}
