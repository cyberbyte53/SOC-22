{
  "nbformat": 4,
  "nbformat_minor": 0,
  "metadata": {
    "colab": {
      "name": "MomentumH.ipynb",
      "provenance": [],
      "collapsed_sections": []
    },
    "kernelspec": {
      "name": "python3",
      "display_name": "Python 3"
    },
    "language_info": {
      "name": "python"
    }
  },
  "cells": [
    {
      "cell_type": "markdown",
      "metadata": {
        "id": "HNA84r2o8MZz"
      },
      "source": [
        "# Momentum (Hard)\n",
        "\n",
        "The only difference between this and the easy version would be that here, we won't be giving you detailed instructions to what you're supposed to do!\n",
        "\n",
        "Momentum-based Trading is based on the assumption that Stocks which have performed will in the past, will perform better in the coming future.\n",
        "\n",
        "We have given you links to learn about Momentum!\n",
        "\n",
        "You may make use of the Internet in whatever way you want (except copying a Momentum implementaion from somewhere else! We will be running Plagiarism tests!)\n",
        "\n",
        "Your program would :\n",
        "\n",
        "Read the Data from a CSV File\n",
        "\n",
        "Have some class and functions which will help it decide what to buy based on Momentum!\n",
        "\n",
        "Have a main loop which sequentially calls all these functions!\n",
        "\n",
        "Plot your results!\n",
        "\n",
        "Write about these results in a separate cell!\n",
        "\n",
        "\n",
        "\n"
      ]
    },
    {
      "cell_type": "code",
      "metadata": {
        "id": "jQSu72s99iWY"
      },
      "source": [
        ""
      ],
      "execution_count": null,
      "outputs": []
    }
  ]
}