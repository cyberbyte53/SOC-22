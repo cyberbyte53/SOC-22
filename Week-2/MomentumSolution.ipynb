{
  "nbformat": 4,
  "nbformat_minor": 0,
  "metadata": {
    "colab": {
      "name": "Momentum.ipynb",
      "provenance": [],
      "collapsed_sections": []
    },
    "kernelspec": {
      "name": "python3",
      "display_name": "Python 3"
    },
    "language_info": {
      "name": "python"
    }
  },
  "cells": [
    {
      "cell_type": "markdown",
      "metadata": {
        "id": "U1k32GLIm1o5"
      },
      "source": [
        "## Momentum \n",
        "\n",
        "Momentum-based Trading is based on the assumption that Stocks which have performed will in the past, will perform better in the coming future.\n",
        " \n",
        "To define 'past', we take a variable **N**, and say that : \n",
        "\n",
        "<centre> Momentum(For A particular stock) = Close Price(Today) - Close Price(N-day ago) </centre>\n",
        "\n",
        "This gives us our first hyper-parameter (parameters of the model which could be changed in order to improve the model) : **N**\n",
        "\n",
        "We would also be reshuffling our [Portfolio](https://www.investopedia.com/terms/p/portfolio.asp) at certain intervals of time, which gives us our second hyper-parameter: **T** (The time after which we'll be reshuffling our Portfolio)\n",
        "\n",
        "Its never suggested to keep all your money invested, you must have some risk-free assets as well, so that even if you lose some of your cash in trading, you could still place better bets and regain that lost cash, Thus, We get our third Hyper-parameter: **R**, The Ratio of Total Balance, which we will using for investing.\n",
        "\n",
        "You will not be investing in all the 30 Tickers now, Will you? You will choose the top few stocks, which show the highest promise in terms of Momentum, which brings us to another hyper-parameter: **M**, The Number of Top few stocks (based on Momentum), which you'll keep in your Portfolio.\n",
        "\n",
        "Finally, There's some brokerage fee which you need to pay in order to place orders on the stock market, typically its less than 0.5% of the total amount : **F**\n"
      ]
    },
    {
      "cell_type": "code",
      "metadata": {
        "id": "GpkE6S0ZjSlB"
      },
      "source": [
        "import pandas as pd\n",
        "import numpy as np\n",
        "import datetime\n",
        "import matplotlib.pyplot as plt\n",
        "import seaborn as sns\n",
        "\n",
        "N = 50\n",
        "T = 7\n",
        "R = 0.8\n",
        "M = 5\n",
        "F = 0.005\n",
        "D = 500\n",
        "B = 10000"
      ],
      "execution_count": null,
      "outputs": []
    },
    {
      "cell_type": "markdown",
      "metadata": {
        "id": "DwPazs3-q618"
      },
      "source": [
        "The Second step would be to define a function which reads the Prices of various Stocks into memory.\n",
        "\n",
        "In the file DATA.csv , which we had uploaded in our repository, we have prices of 30 firms enlisted in S & P 500 Index (Apple, IBM, Cisco, Walmart and the like!) from 2nd January 2009 to 17th August 2020.\n",
        "\n",
        "For our purposes, We'll only be requiring certain columns. On an honest note, Just getting the Columns on Ticker, Date and Adjusted Closing Price would do the job, but if you want, you may take Opening Price as well.\n",
        "\n",
        "Read up about the [pandas.read_csv](https://pandas.pydata.org/docs/reference/api/pandas.read_csv.html) function from here, and figure out how you'll use it to do the job (You don't need all the columns!) "
      ]
    },
    {
      "cell_type": "code",
      "metadata": {
        "id": "9rsbAPafuUk1"
      },
      "source": [
        "def GetData(NameOfFile):\n",
        "  return pd.DataFrame(pd.read_csv(NameOfFile, usecols = ['datadate','tic','adjcp']))"
      ],
      "execution_count": null,
      "outputs": []
    },
    {
      "cell_type": "markdown",
      "metadata": {
        "id": "qkWJ29Kquf2B"
      },
      "source": [
        "To aid Data-Manipulation, it would be beneficial, if we split the DataFrame into many small parts each corresponding to the data corresponding to the 30 Tickers on a particular date. These small parts could then be stored in a list.\n",
        "\n",
        "We would also be needing to remember which date is at what index, so that we can use that later. "
      ]
    },
    {
      "cell_type": "code",
      "metadata": {
        "id": "d4HLxmu9HTl8"
      },
      "source": [
        "def PartitionData(Data):\n",
        "  DateToIndex = {}\n",
        "  for e in range(len(Data['datadate'])):\n",
        "    DateToIndex.setdefault(str(Data['datadate'][e]),e)\n",
        "  return [np.array_split(Data,2926), DateToIndex] "
      ],
      "execution_count": null,
      "outputs": []
    },
    {
      "cell_type": "markdown",
      "metadata": {
        "id": "peRRNuUQOnVM"
      },
      "source": [
        "Now, We need a function to calculate the Momentum value for all of our 30 Tickers.\n",
        "To do this, We need to have a few things in mind:\n",
        "\n",
        "\n",
        "1.   We need to start at Nth day in our list, as only then we'll be able to calculate the Momentum (This will be taken care of by later parts of the Program, when we actually run the Model)\n",
        "\n",
        "2.   The Stock Market isn't open on all days, so we often won't be able to go N days behind, and will have to take the closest value instead(We can't just go N entries behind in the List we created and expect that to work, Why?) In order to work with dates, you should get to know more about the datetime library of Python from [here](https://thispointer.com/python-how-to-convert-datetime-object-to-string-using-datetime-strftime/) (Especially the datetime.strftime() function) and about the [datetime.timedelta()](https://www.studytonight.com/python-howtos/how-to-add-days-to-date-in-python) function.\n",
        "\n",
        "Also, as you may have figured it out yourself, while DataFrames are great for Data Handling and small statistical calculations, They aren't so for big calculations as the Numpy Library has both a richer variety of functions for such manipulations and is also more efficient!\n",
        "\n",
        "After we calculate the Momentum for all our Tickers, it would be a great thing to do, if we could divide their prices by their mean(in the N day interval, as we need to see which stock outperforms others and in order to do this, it won't be fair if we take the absolute growth in numbers!(Why?)\n",
        "\n"
      ]
    },
    {
      "cell_type": "code",
      "metadata": {
        "id": "tMKHAcBnSG5n"
      },
      "source": [
        "def GetMomentumBasedPriority(PartitionedDataFrameList, DateToIndex ,today):\n",
        "  NdaysAgo = datetime.date(int(today[0:4]),int(today[4:6]),int(today[6:])) + datetime.timedelta(days = -N)\n",
        "  i = 0\n",
        "  while i >= 0:\n",
        "    x = str(NdaysAgo - datetime.timedelta(days = i)).replace('-','')\n",
        "    if (x in DateToIndex.keys()):\n",
        "      break\n",
        "    i += 1\n",
        "  temp = x\n",
        "  Momentum = np.array(PartitionedDataFrameList[DateToIndex[today] % 2926]['adjcp']) - np.array(PartitionedDataFrameList[DateToIndex[temp] % 2926]['adjcp'])\n",
        "  Sum = np.array(PartitionedDataFrameList[DateToIndex[today] % 2926]['adjcp'])\n",
        "  for i in range((DateToIndex[temp] + 1), (DateToIndex[today]),30):\n",
        "    Sum += np.array(PartitionedDataFrameList[i % 2926]['adjcp'])\n",
        "  return Momentum * N / Sum"
      ],
      "execution_count": null,
      "outputs": []
    },
    {
      "cell_type": "markdown",
      "metadata": {
        "id": "s5QOHJ9Ra00l"
      },
      "source": [
        "Even after you have got your Momentum-based priorities, and have decided which stocks to buy and what will be the weight of each, you still need to figure out how much of each will you buy. To do this, first you'll sell all your pre-owned stocks which will increase your cash in hand, then you'll know the stocks to buy and their relative weights (given by their Momentum/mean) and you need a function which tells you how many stocks to buy for each ticker!"
      ]
    },
    {
      "cell_type": "code",
      "metadata": {
        "id": "cQg8OWVg_qo5"
      },
      "source": [
        "def GetBalanced(prices, weights,balance):\n",
        "  copy = np.flip(np.sort(weights))\n",
        "  for i in range(M,len(weights)):\n",
        "    copy[i] = 0\n",
        "  for i in range(len(weights)):\n",
        "    if weights[i] not in copy:\n",
        "      weights[i] = 0\n",
        "    elif weights[i] < 0:\n",
        "      weights[i] = 0\n",
        "  sum = np.sum(weights)\n",
        "  if (sum <= 0):\n",
        "    return np.zeros(30, dtype = float)\n",
        "  weights /= sum\n",
        "  sum = np.sum(weights * prices)\n",
        "  return (balance / sum) * weights"
      ],
      "execution_count": null,
      "outputs": []
    },
    {
      "cell_type": "markdown",
      "metadata": {
        "id": "WWN9ri-rIb3e"
      },
      "source": [
        "Now, We need something to simulate our [Portfolio](https://www.investopedia.com/terms/p/portfolio.asp). In order to do that we need a class, which has certain  basic features and functionalities.\n",
        "\n",
        "Features : \n",
        "\n",
        "\n",
        "1.   Your Initial Balance\n",
        "2.   Your Current Balance\n",
        "3.   A list(/any other container) storing the number of stocks of each ticker currently in possession. (Numpy Array prefered)\n",
        "4.   Most recent prices of all the stocks (As a Numpy array)\n",
        "\n",
        "Functionalities: \n",
        "\n",
        "\n",
        "\n",
        "1.   Calculating current Net Worth (Balance+Total Evaluation of all Stocks owned!) \n",
        "2.   Buying a Particular Stock (Keep the Transaction fee in mind!)\n",
        "3.   Selling a particular Stock whole (Keep the Transaction Fee in mind!)\n",
        "4.   Rebalance Portfolio  (Takes Numpy array as input)\n",
        "5.   Function to change the value of most recent prices stored (Takes Numpy array as input)\n",
        "\n",
        "\n",
        "\n"
      ]
    },
    {
      "cell_type": "code",
      "metadata": {
        "id": "gi60d9qUNO0_"
      },
      "source": [
        "class PortFolio:\n",
        "  def __init__(self, balance, numStocks, prices):\n",
        "    self.balance = balance\n",
        "    self.numStocks = numStocks\n",
        "    self.prices = prices\n",
        "\n",
        "  def SellStock(self, index):\n",
        "    self.balance += self.numStocks[index] * self.prices[index] * (1 - F)\n",
        "    self.numStocks[index] = 0\n",
        "  \n",
        "  def BuyStock(self, index, number):\n",
        "    self.balance -= number * self.prices[index] * (1 + F)\n",
        "\n",
        "  def CalculateNetWorth(self):\n",
        "    return self.balance + np.sum(self.numStocks * self.prices) * (1 - F)\n",
        "\n",
        "  def ChangePricesTo(self, newPriceVector):\n",
        "    self.prices = newPriceVector\n",
        "\n",
        "  def RebalancePortFolio(self, newWeights):\n",
        "    balanceCopy = self.balance + np.sum(self.numStocks * self.prices) * (1 - F)\n",
        "    newStocks = GetBalanced(self.prices, newWeights, balanceCopy)\n",
        "    for i in range(30):\n",
        "      balanceCopy -= self.prices[i] * newStocks[i] * (1 + F)\n",
        "    if balanceCopy + np.sum(self.prices * newStocks) * (1 - F) + B * (1 - R) >= self.CalculateNetWorth():\n",
        "      self.balance = balanceCopy\n",
        "      self.numStocks = newStocks"
      ],
      "execution_count": null,
      "outputs": []
    },
    {
      "cell_type": "markdown",
      "metadata": {
        "id": "PKiLs-6TB6mU"
      },
      "source": [
        "With that the difficult part is over!\n",
        "\n",
        "Now, all you need to work on is a main loop, which calls all these functions"
      ]
    },
    {
      "cell_type": "code",
      "metadata": {
        "id": "zjo2KrcaCmqf"
      },
      "source": [
        "Data = GetData(\"/path/to/DATA.csv\")\n",
        "List = PartitionData(Data)\n",
        "PartitionedData = List[0]\n",
        "DateToIndex = List[1]\n",
        "\n",
        "myPortfolio = PortFolio(B * R,np.zeros(30, dtype = float),np.array(PartitionedData[int(list(DateToIndex.keys())[N]) % 2926]['adjcp']))\n",
        "NetWorthAfterEachTrade = [myPortfolio.CalculateNetWorth() + B * (1 - R)]\n",
        "\n",
        "for i in range((N + 1),len(PartitionedData)):\n",
        "  today = list(DateToIndex.keys())[i]\n",
        "  myPortfolio.ChangePricesTo(np.array(PartitionedData[int(today) % 2926]['adjcp']))\n",
        "  NetWorthAfterEachTrade.append(myPortfolio.CalculateNetWorth() + B * (1 - R))\n",
        "  if (i % T == 0):\n",
        "    myPortfolio.RebalancePortFolio(GetMomentumBasedPriority(PartitionedData, DateToIndex, today))"
      ],
      "execution_count": null,
      "outputs": []
    },
    {
      "cell_type": "markdown",
      "metadata": {
        "id": "rHB126bDE2Kn"
      },
      "source": [
        "##Moment of Truth\n",
        "\n",
        "Time to check, if your Program actually works!\n",
        "\n",
        "Plot the data you collected in various ways and see if what you did worked!\n",
        "\n",
        "Feel free to use whichever one of Matplotlib or Seaborn you want to.\n",
        "\n",
        "You should try changing the hyper-parameters to increase(/decrease) your performance!\n"
      ]
    },
    {
      "cell_type": "code",
      "metadata": {
        "id": "Z3AVQq09FxYm"
      },
      "source": [
        "def VisualizeData(FinalData):\n",
        "  plt.plot(FinalData)\n",
        "  plt.show()"
      ],
      "execution_count": null,
      "outputs": []
    },
    {
      "cell_type": "markdown",
      "metadata": {
        "id": "cZoWhY8X9BSR"
      },
      "source": [
        "You may use this cell to write about what results you got!"
      ]
    }
  ]
}