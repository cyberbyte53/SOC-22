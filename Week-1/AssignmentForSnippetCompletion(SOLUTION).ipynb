{
  "cells": [
    {
      "cell_type": "code",
      "execution_count": null,
      "id": "W2FPoG_Lnn8n",
      "metadata": {
        "id": "W2FPoG_Lnn8n"
      },
      "outputs": [],
      "source": [
        "File = open(\"HarryPotterAndTheSorcerersStone.txt\",'r',encoding = 'UTF-8') #This helps in opening the file which is to be read"
      ]
    },
    {
      "cell_type": "code",
      "execution_count": null,
      "id": "wuz-iSaonn8o",
      "metadata": {
        "id": "wuz-iSaonn8o"
      },
      "outputs": [],
      "source": [
        "DictionaryOfWords = {}         #Dictionary mapping every word to a list (of indices of the words' occurences)\n",
        "Novel = []                     #List of all words in the order, in which they appear!\n",
        "\n",
        "\n",
        "\n",
        "i = 0                   #Counter Variable to keep track of index of words\n",
        "\n",
        "for line in File.readlines():     #Iterate over all lines present in the text\n",
        "    \n",
        "    #Look at Python's Conciseness!\n",
        "    \n",
        "    line = line.replace(\".\",\"\").replace(\",\",\"\").replace('?','').replace('!','').replace('[','').replace(']','')\\\n",
        "    .replace('(','').replace(')','').replace('%','').replace('/','')\n",
        "      \n",
        "    #COMPLETE THE CODE FROM HERE:\n",
        "    \n",
        "    #This would split the line into many different words, and iterate over these words\n",
        "    \n",
        "    for word in line.split(' '): \n",
        "                                                                             \n",
        "        if word in DictionaryOfWords.keys():     #If the word is already present in the dictionary\n",
        "                                                                             \n",
        "            DictionaryOfWords[word].append(i)        #Add the index into the pre-existing list for this word\n",
        "                                                                             \n",
        "        else:\n",
        "            DictionaryOfWords[word]=[i]        #Create a new list of indices for this word, with a single element\n",
        "                                                                             \n",
        "        \n",
        "        Novel.append(word)        #Add the Word in the Novel's ordered list of words\n",
        "                                                                             \n",
        "        i+=1\n",
        "    "
      ]
    },
    {
      "cell_type": "code",
      "execution_count": null,
      "id": "rZdPHcyZnn8p",
      "metadata": {
        "id": "rZdPHcyZnn8p"
      },
      "outputs": [],
      "source": [
        "#COMPLETE THE CODE FROM HERE:\n",
        "\n",
        "def GetQuery():\n",
        "   \n",
        "    word = input(\"Enter the word you have query for : \")        #Get Input from the user regarding what word s/he wants to query for\n",
        "\n",
        "    Number = input(\"Enter the Number : \")      #Get Input from the user regarding how many results the user wants to see\n",
        "\n",
        "    return (word,Number)                 #Return as output a tuple of the word and the Number of results       "
      ]
    },
    {
      "cell_type": "code",
      "execution_count": null,
      "id": "NFjuNsIjnn8q",
      "metadata": {
        "id": "NFjuNsIjnn8q"
      },
      "outputs": [],
      "source": [
        "def PrintContext(index):\n",
        "    \n",
        "    global Novel                          #Declares the list Novel as a Global Variable\n",
        "    \n",
        "    #COMPLETE THE CODE FROM HERE:\n",
        "    \n",
        "    for i in range(-5,6) :           #Define the range so that the task above is fulfilled\n",
        "        \n",
        "        print(Novel[index+i], end = ' ')          #Print the word (using List Indexing) with a space after that\n",
        "        \n",
        "    print('\\n')"
      ]
    },
    {
      "cell_type": "code",
      "execution_count": null,
      "id": "lJe_w2C0nn8r",
      "metadata": {
        "id": "lJe_w2C0nn8r"
      },
      "outputs": [],
      "source": [
        "def PrintResult(word, NumQuery):\n",
        "  \n",
        "    global DictionaryOfWords                #Allows us to use the Dictionary as a global variable\n",
        "    \n",
        "    #COMPLETE THE CODE FROM HERE:\n",
        "    \n",
        "    L = DictionaryOfWords[word] \n",
        "    \n",
        "    for i in range(0,min(len(L),NumQuery)):\n",
        "        \n",
        "        PrintContext(L[i])             #Actually print the words surrounding the ith occurence of the given word\n",
        "        "
      ]
    },
    {
      "cell_type": "code",
      "execution_count": null,
      "id": "b5LvL0TQnn8s",
      "metadata": {
        "colab": {
          "base_uri": "https://localhost:8080/"
        },
        "id": "b5LvL0TQnn8s",
        "outputId": "182bdc48-d1ab-43cb-9997-b54ec942063d"
      },
      "outputs": [],
      "source": [
        "while 1>0 :   \n",
        "    \n",
        "    Choice = input('Press Y in order to Continue with the next query or N to end. Please press Enter after entering your choice!')\n",
        "    \n",
        "    #COMPLETE THE CODE FROM HERE:\n",
        "    \n",
        "    if Choice==\"Y\":                     # If the user wants to query \n",
        "        a=GetQuery()\n",
        "        PrintResult(a[0],int(a[1]))                        #Use some of the past defined function to do so\n",
        "        \n",
        "    else:\n",
        "        \n",
        "        break                                 #Else end the loo"
      ]
    }
  ],
  "metadata": {
    "colab": {
      "name": "AssignmentForSnippetCompletion.ipynb",
      "provenance": []
    },
    "kernelspec": {
      "display_name": "Python 3",
      "language": "python",
      "name": "python3"
    },
    "language_info": {
      "codemirror_mode": {
        "name": "ipython",
        "version": 3
      },
      "file_extension": ".py",
      "mimetype": "text/x-python",
      "name": "python",
      "nbconvert_exporter": "python",
      "pygments_lexer": "ipython3",
      "version": "3.8.8"
    }
  },
  "nbformat": 4,
  "nbformat_minor": 5
}
