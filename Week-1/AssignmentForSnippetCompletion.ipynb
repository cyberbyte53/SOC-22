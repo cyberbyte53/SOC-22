{
  "nbformat": 4,
  "nbformat_minor": 5,
  "metadata": {
    "kernelspec": {
      "name": "python3",
      "display_name": "Python 3",
      "language": "python"
    },
    "language_info": {
      "name": "python",
      "version": "3.6.13",
      "mimetype": "text/x-python",
      "codemirror_mode": {
        "name": "ipython",
        "version": 3
      },
      "pygments_lexer": "ipython3",
      "nbconvert_exporter": "python",
      "file_extension": ".py"
    },
    "colab": {
      "name": "Copy of AssignmentForSnippetCompletion.ipynb",
      "provenance": []
    }
  },
  "cells": [
    {
      "cell_type": "markdown",
      "metadata": {
        "id": "mwY8-ebWnn8k"
      },
      "source": [
        "# Assignment: Complete the Snippet\n"
      ],
      "id": "mwY8-ebWnn8k"
    },
    {
      "cell_type": "markdown",
      "metadata": {
        "id": "98h1wLbDnn8n"
      },
      "source": [
        "Shikhar started building a basic Python Script which goes through the entire text of a particular book and mugs up all its words. After that it asks you for a word, goes over the times when this word came in the text and gives you the complete sentence in which it was used. You may choose to ask for as many such sentences as the number of occurences of the word.\n",
        "\n",
        "He's managed to come up with the part where he loads the file into Memory. He also managed to come up with snippets of code which could potentially do something if completed, but he has many deadlines to look after and not enough caffeine to turn to code. Can you help him?"
      ],
      "id": "98h1wLbDnn8n"
    },
    {
      "cell_type": "code",
      "metadata": {
        "trusted": true,
        "id": "W2FPoG_Lnn8n"
      },
      "source": [
        "File = open(\"HarryPotterAndTheSorcerersStone.txt\",'r')     #This helps in opening the file which is to be read"
      ],
      "id": "W2FPoG_Lnn8n",
      "execution_count": null,
      "outputs": []
    },
    {
      "cell_type": "markdown",
      "metadata": {
        "id": "6n2G1L6qnn8o"
      },
      "source": [
        "Next he makes a list of all the words present in the novel mapping them to their index(position) in the list of words (i.e. ListOfWords). This is done by mapping every word (a string) to a list (list of indices), and this is stored as a Dictionary (DictionaryoOfWords)\n",
        "\n",
        "\n",
        "\n",
        "He makes use of the readlines() method which is used to extract all the lines from any text and the split() function which could be used to split any sentence into distinct words. The replace() method is used on strings to replace certain segments of the string with something else."
      ],
      "id": "6n2G1L6qnn8o"
    },
    {
      "cell_type": "code",
      "metadata": {
        "trusted": true,
        "id": "wuz-iSaonn8o"
      },
      "source": [
        "DictionaryOfWords = {}         #Dictionary mapping every word to a list (of indices of the words' occurences)\n",
        "Novel = []                     #List of all words in the order, in which they appear!\n",
        "\n",
        "\n",
        "\n",
        "i = 0                   #Counter Variable to keep track of index of words\n",
        "\n",
        "for line in File.readlines():     #Iterate over all lines present in the text\n",
        "    \n",
        "    #Look at Python's Conciseness!\n",
        "    \n",
        "    line = line.replace(\".\",\"\").replace(\",\",\"\").replace('?','').replace('!','').replace('[','').replace(']','')\\\n",
        "    .replace('(','').replace(')','').replace('%','').replace('/','')\n",
        "      \n",
        "    #COMPLETE THE CODE FROM HERE:\n",
        "    \n",
        "    #This would split the line into many different words, and iterate over these words\n",
        "    \n",
        "    for ______ in line.split(' '): \n",
        "                                                                             \n",
        "        if ________ in DictonaryOfWords.keys():     #If the word is already present in the dictionary\n",
        "                                                                             \n",
        "            ______________        #Add the index into the pre-existing list for this word\n",
        "                                                                             \n",
        "        else:\n",
        "            ______________        #Create a new list of indices for this word, with a single element\n",
        "                                                                             \n",
        "        \n",
        "        Novel.append(_____)        #Add the Word in the Novel's ordered list of words\n",
        "                                                                             \n",
        "        i+=1\n",
        "    "
      ],
      "id": "wuz-iSaonn8o",
      "execution_count": null,
      "outputs": []
    },
    {
      "cell_type": "markdown",
      "metadata": {
        "id": "7Q0xPLDynn8o"
      },
      "source": [
        "That guy truly left a lot of work for you!\n",
        "\n",
        "Now that you've done that, We have the words in the novel alongwith where they appeared in the text loaded into memory (Thanks to You!).\n",
        "\n",
        "The Next Step would be to answer any queries the user may have.\n",
        "\n",
        "To do this, we define the function GetQuery() which returns the word as well as the number of results the user wants to see (as a tuple):\n",
        "\n"
      ],
      "id": "7Q0xPLDynn8o"
    },
    {
      "cell_type": "code",
      "metadata": {
        "trusted": true,
        "id": "rZdPHcyZnn8p"
      },
      "source": [
        "#COMPLETE THE CODE FROM HERE:\n",
        "\n",
        "def GetQuery():\n",
        "   \n",
        "    word = ________________________        #Get Input from the user regarding what word s/he wants to query for\n",
        "\n",
        "    Number = ________________________      #Get Input from the user regarding how many results the user wants to see\n",
        "\n",
        "    return (____,___)                 #Return as output a tuple of the word and the Number of results       "
      ],
      "id": "rZdPHcyZnn8p",
      "execution_count": null,
      "outputs": []
    },
    {
      "cell_type": "markdown",
      "metadata": {
        "id": "f0ExNn2Hnn8p"
      },
      "source": [
        "Now, We need a function which takes as input the index of any particular word and prints the words surrounding it as if they were in an actual sentence. \n",
        "\n",
        "This is done by iterating over the words surrounding it, and printing them with gaps in between. We also assume that this occurence isn't a boundary case and thus, the 10 words surronding it actually exist."
      ],
      "id": "f0ExNn2Hnn8p"
    },
    {
      "cell_type": "code",
      "metadata": {
        "trusted": true,
        "id": "NFjuNsIjnn8q"
      },
      "source": [
        "def PrintContext(index):\n",
        "    \n",
        "    global Novel                          #Declares the list Novel as a Global Variable\n",
        "    \n",
        "    #COMPLETE THE CODE FROM HERE:\n",
        "    \n",
        "    for i in range( _____ ) :           #Define the range so that the task above is fulfilled\n",
        "        \n",
        "        print(_____, end = ' ')          #Print the word (using List Indexing) with a space after that\n",
        "        \n",
        "    print('\\n')"
      ],
      "id": "NFjuNsIjnn8q",
      "execution_count": null,
      "outputs": []
    },
    {
      "cell_type": "markdown",
      "metadata": {
        "id": "WaT0_Nsxnn8q"
      },
      "source": [
        "The result of the GetQuery() function will be passed into a second function which would take as input the word and the number of results to be displayed and do so!"
      ],
      "id": "WaT0_Nsxnn8q"
    },
    {
      "cell_type": "code",
      "metadata": {
        "trusted": true,
        "id": "lJe_w2C0nn8r"
      },
      "source": [
        "def PrintResult(word, NumQuery):\n",
        "  \n",
        "    global DictionaryOfWords                #Allows us to use the Dictionary as a global variable\n",
        "    \n",
        "    #COMPLETE THE CODE FROM HERE:\n",
        "    \n",
        "    L = DictionaryOfWords[______] \n",
        "    \n",
        "    for i in range(0,min(len(L),NumQuery)):\n",
        "        \n",
        "        PrintContext(__________)             #Actually print the words surrounding the ith occurence of the given word\n",
        "        "
      ],
      "id": "lJe_w2C0nn8r",
      "execution_count": null,
      "outputs": []
    },
    {
      "cell_type": "markdown",
      "metadata": {
        "id": "JRNRUKLTnn8s"
      },
      "source": [
        "Finally, you need an infinite loop which runs until the user wants it to and asks for the next word (if the user wants to query more) or end the loop."
      ],
      "id": "JRNRUKLTnn8s"
    },
    {
      "cell_type": "code",
      "metadata": {
        "trusted": true,
        "id": "b5LvL0TQnn8s"
      },
      "source": [
        "while 1>0 :   \n",
        "    \n",
        "    Choice = input('Press Y in order to Continue with the next query or N to end. \\ \n",
        "    Please press Enter after entering your choice!')\n",
        "    \n",
        "    #COMPLETE THE CODE FROM HERE:\n",
        "    \n",
        "    if Choice== ______ :                     # If the user wants to query \n",
        "        \n",
        "        _____________                        #Use some of the past defined function to do so\n",
        "        \n",
        "    else:\n",
        "        \n",
        "        break                                 #Else end the loop"
      ],
      "id": "b5LvL0TQnn8s",
      "execution_count": null,
      "outputs": []
    }
  ]
}